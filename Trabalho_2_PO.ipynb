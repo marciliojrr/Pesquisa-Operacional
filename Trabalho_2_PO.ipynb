{
  "nbformat": 4,
  "nbformat_minor": 0,
  "metadata": {
    "colab": {
      "name": "Trabalho_2_PO.ipynb",
      "provenance": [],
      "collapsed_sections": [],
      "authorship_tag": "ABX9TyPSQgV5X0ampNmL72WCgdFj",
      "include_colab_link": true
    },
    "kernelspec": {
      "name": "python3",
      "display_name": "Python 3"
    },
    "language_info": {
      "name": "python"
    }
  },
  "cells": [
    {
      "cell_type": "markdown",
      "metadata": {
        "id": "view-in-github",
        "colab_type": "text"
      },
      "source": [
        "<a href=\"https://colab.research.google.com/github/marciliojrr/Pesquisa-Operacional/blob/main/Trabalho_2_PO.ipynb\" target=\"_parent\"><img src=\"https://colab.research.google.com/assets/colab-badge.svg\" alt=\"Open In Colab\"/></a>"
      ]
    },
    {
      "cell_type": "markdown",
      "metadata": {
        "id": "8ZtqktdJtgYP"
      },
      "source": [
        "##Pesquisa Operacional - Trabalho 2\n",
        "###Professor: Teobaldo\n",
        "---\n",
        "Discentes:\n",
        "- Marcílio de Oliveira Silva Júnior - Mat: 11413589\n",
        "- Alan Hiores Freires de Sales Leite - Mat: 11228436"
      ]
    },
    {
      "cell_type": "code",
      "metadata": {
        "id": "gR86XDIKjhHs"
      },
      "source": [
        "# Importação de bibliotecas necessárias.\n",
        "import numpy as np\n",
        "\n",
        "# Abrindo arquivos de instância. Inserção manual do nome de cada arquivo.\n",
        "arquivo = open('po1.txt', 'r', encoding='utf-8')\n",
        "\n",
        "# readlines() retorna cada linha do arquivo lido anteriormente e salva em uma lista.\n",
        "instancias = arquivo.readlines()\n",
        "\n",
        "# Realizando limpeza e organização dos dados (removendo '\\n' e afins e separando cada linha em uma lista).\n",
        "instancias = [i.split() for i in instancias]"
      ],
      "execution_count": 140,
      "outputs": []
    },
    {
      "cell_type": "code",
      "metadata": {
        "colab": {
          "base_uri": "https://localhost:8080/"
        },
        "id": "sXutXs8rup4j",
        "outputId": "280a2ce3-c9bb-47cb-d034-3deebf822e8f"
      },
      "source": [
        "# Exibindo dados brutos da instancia lida.\n",
        "print(instancias)"
      ],
      "execution_count": 141,
      "outputs": [
        {
          "output_type": "stream",
          "text": [
            "[['2', '3'], ['3', '5'], ['1', '0', '4'], ['0', '1', '6'], ['3', '2', '18']]\n"
          ],
          "name": "stdout"
        }
      ]
    },
    {
      "cell_type": "code",
      "metadata": {
        "colab": {
          "base_uri": "https://localhost:8080/"
        },
        "id": "ZuPYgk2zuyob",
        "outputId": "6c94f51d-b6d4-4715-f52f-98becff81760"
      },
      "source": [
        "# Criando variáveis com a quantidade de variáveis e restrições da instancia lida.\n",
        "num_vars = int(instancias[0][0])\n",
        "num_rest = int(instancias[0][1])\n",
        "print(f'''Número de variáveis: {num_vars}\\nTipo da variável \"num_vars\": {type(num_vars)}\\n\n",
        "Quantidade de restrições: {num_rest}\\nTipo da variável \"num_vars\": {type(num_rest)}\n",
        "''')"
      ],
      "execution_count": 142,
      "outputs": [
        {
          "output_type": "stream",
          "text": [
            "Número de variáveis: 2\n",
            "Tipo da variável \"num_vars\": <class 'int'>\n",
            "\n",
            "Quantidade de restrições: 3\n",
            "Tipo da variável \"num_vars\": <class 'int'>\n",
            "\n"
          ],
          "name": "stdout"
        }
      ]
    },
    {
      "cell_type": "code",
      "metadata": {
        "colab": {
          "base_uri": "https://localhost:8080/"
        },
        "id": "GrPTAFjb6Aio",
        "outputId": "b13e3ac7-5370-4061-8d7d-5bcabbf2d274"
      },
      "source": [
        "# Criando array com os coeficientes da F.O.\n",
        "coef_fo = [int(i) for i in instancias[1]]\n",
        "coef_fo = np.array(coef_fo)\n",
        "print(f'Coeficientes da FO: {coef_fo}\\nTipo da variável \"coef_fo\": {type(coef_fo)}')"
      ],
      "execution_count": 143,
      "outputs": [
        {
          "output_type": "stream",
          "text": [
            "Coeficientes da FO: [3 5]\n",
            "Tipo da variável \"coef_fo\": <class 'numpy.ndarray'>\n"
          ],
          "name": "stdout"
        }
      ]
    },
    {
      "cell_type": "code",
      "metadata": {
        "id": "fuGhxXp865j3",
        "colab": {
          "base_uri": "https://localhost:8080/"
        },
        "outputId": "5184746f-e11f-47dc-f13f-081ba18b0f0d"
      },
      "source": [
        "# Criando array com as restrições da instancia lida e o vetor b.\n",
        "restricoes = instancias[2:]\n",
        "b = []\n",
        "for i in range(0, len(restricoes)):\n",
        "  restricoes[i] = np.array(restricoes[i], int)\n",
        "  b.append(restricoes[i][-1])\n",
        "  restricoes[i] = np.delete(restricoes[i], -1)\n",
        "b = np.array(b)\n",
        "\n",
        "for i in range(0, len(restricoes)):\n",
        "  print(f'Coeficientes da restrição {i + 1}: {restricoes[i]}\\nTipo da variável: {type(restricoes[i])}\\n')\n",
        "print(f'Vetor b: {b}\\nTipo da variável: {type(b)}')"
      ],
      "execution_count": 144,
      "outputs": [
        {
          "output_type": "stream",
          "text": [
            "Coeficientes da restrição 1: [1 0]\n",
            "Tipo da variável: <class 'numpy.ndarray'>\n",
            "\n",
            "Coeficientes da restrição 2: [0 1]\n",
            "Tipo da variável: <class 'numpy.ndarray'>\n",
            "\n",
            "Coeficientes da restrição 3: [3 2]\n",
            "Tipo da variável: <class 'numpy.ndarray'>\n",
            "\n",
            "Vetor b: [ 4  6 18]\n",
            "Tipo da variável: <class 'numpy.ndarray'>\n"
          ],
          "name": "stdout"
        }
      ]
    },
    {
      "cell_type": "code",
      "metadata": {
        "colab": {
          "base_uri": "https://localhost:8080/"
        },
        "id": "4ukNL3VeUzPQ",
        "outputId": "6e3665c0-d9c6-4ef6-a2ff-d86448f94956"
      },
      "source": [
        "# Construindo a matriz A já considerando a inserção das variáveis de folga.\n",
        "A = np.array(restricoes)\n",
        "coef_folga = np.eye(num_rest, dtype=int)\n",
        "A = np.concatenate((A, coef_folga), axis=1)\n",
        "\n",
        "print(f'''Matriz A:\n",
        "{A}\n",
        "\n",
        "Tipo de A: {type(A)}''')"
      ],
      "execution_count": 145,
      "outputs": [
        {
          "output_type": "stream",
          "text": [
            "Matriz A:\n",
            "[[1 0 1 0 0]\n",
            " [0 1 0 1 0]\n",
            " [3 2 0 0 1]]\n",
            "\n",
            "Tipo de A: <class 'numpy.ndarray'>\n"
          ],
          "name": "stdout"
        }
      ]
    },
    {
      "cell_type": "code",
      "metadata": {
        "colab": {
          "base_uri": "https://localhost:8080/"
        },
        "id": "_Q15NJnTcIke",
        "outputId": "745a9869-b637-4e0d-ec1c-b8d0816635ba"
      },
      "source": [
        "# A partir das necessidades da função linalg, ajustes precisaram ser feitos \n",
        "# de modo que a mesma funcionasse corretamente. Esses ajustes são em relação as\n",
        "# variáveis NÃO-BÁSICAS e, assim, não comprometendo o problema.\n",
        "coef_folga_fo = np.zeros((num_rest - num_vars,), dtype=int)\n",
        "coef_folga_fo"
      ],
      "execution_count": 146,
      "outputs": [
        {
          "output_type": "execute_result",
          "data": {
            "text/plain": [
              "array([0])"
            ]
          },
          "metadata": {
            "tags": []
          },
          "execution_count": 146
        }
      ]
    },
    {
      "cell_type": "code",
      "metadata": {
        "colab": {
          "base_uri": "https://localhost:8080/"
        },
        "id": "GP8N7CZbQqIQ",
        "outputId": "f03eb100-45af-46b3-d124-a821d218a3a3"
      },
      "source": [
        "coef_fo_total = np.concatenate((coef_fo, coef_folga_fo), axis=0)\n",
        "coef_fo_total"
      ],
      "execution_count": 147,
      "outputs": [
        {
          "output_type": "execute_result",
          "data": {
            "text/plain": [
              "array([3, 5, 0])"
            ]
          },
          "metadata": {
            "tags": []
          },
          "execution_count": 147
        }
      ]
    },
    {
      "cell_type": "code",
      "metadata": {
        "colab": {
          "base_uri": "https://localhost:8080/"
        },
        "id": "yIzVTbQFRNbB",
        "outputId": "f887d9f9-a973-4a03-9583-223217368e87"
      },
      "source": [
        "b_total = np.concatenate((b, coef_folga_fo), axis=0)\n",
        "b_total"
      ],
      "execution_count": 148,
      "outputs": [
        {
          "output_type": "execute_result",
          "data": {
            "text/plain": [
              "array([ 4,  6, 18,  0])"
            ]
          },
          "metadata": {
            "tags": []
          },
          "execution_count": 148
        }
      ]
    },
    {
      "cell_type": "code",
      "metadata": {
        "colab": {
          "base_uri": "https://localhost:8080/"
        },
        "id": "nRhRuy8mqebD",
        "outputId": "a7e0df7e-5ac5-4e62-94ad-8275c4d50c1c"
      },
      "source": [
        "from math import factorial as factorial\n",
        "from math import ceil as ceil\n",
        "vars_total = num_vars + num_rest\n",
        "\n",
        "qtd_comb = int(factorial(vars_total) / (factorial(num_rest) * factorial(vars_total - num_rest)))\n",
        "print(f'- Quandidade de combinações para as colunas da matriz: {qtd_comb}\\n')\n",
        "\n",
        "counter = 0\n",
        "bases_aux = []\n",
        "#for i in range(num_vars - num_rest + 1):\n",
        "for i in range(vars_total - num_rest + 1):\n",
        "  for j in range(i + 1, vars_total):\n",
        "    for k in range(j + 1, vars_total):\n",
        "\n",
        "      print(f'- Matriz {counter} - (x{i + 1}, x{j + 1}, x{k + 1})')\n",
        "      print(A[:, [i, j, k]],)\n",
        "\n",
        "      det = np.linalg.det(A[:, [i, j, k]])\n",
        "      if det != 0:\n",
        "        bases_aux.append(A[:, [i, j, k]])\n",
        "        print(f'Determinante: {ceil(det)} e, portanto, é L.I.\\n')\n",
        "      else:\n",
        "        print(f'Determinante: {ceil(det)} e, portanto, é L.D.\\n')\n",
        "      counter += 1"
      ],
      "execution_count": 170,
      "outputs": [
        {
          "output_type": "stream",
          "text": [
            "- Quandidade de combinações para as colunas da matriz: 10\n",
            "\n",
            "- Matriz 0 - (x1, x2, x3)\n",
            "[[1 0 1]\n",
            " [0 1 0]\n",
            " [3 2 0]]\n",
            "Determinante: -3 e, portanto, é L.I.\n",
            "\n",
            "- Matriz 1 - (x1, x2, x4)\n",
            "[[1 0 0]\n",
            " [0 1 1]\n",
            " [3 2 0]]\n",
            "Determinante: -2 e, portanto, é L.I.\n",
            "\n",
            "- Matriz 2 - (x1, x2, x5)\n",
            "[[1 0 0]\n",
            " [0 1 0]\n",
            " [3 2 1]]\n",
            "Determinante: 1 e, portanto, é L.I.\n",
            "\n",
            "- Matriz 3 - (x1, x3, x4)\n",
            "[[1 1 0]\n",
            " [0 0 1]\n",
            " [3 0 0]]\n",
            "Determinante: 4 e, portanto, é L.I.\n",
            "\n",
            "- Matriz 4 - (x1, x3, x5)\n",
            "[[1 1 0]\n",
            " [0 0 0]\n",
            " [3 0 1]]\n",
            "Determinante: 0 e, portanto, é L.D.\n",
            "\n",
            "- Matriz 5 - (x1, x4, x5)\n",
            "[[1 0 0]\n",
            " [0 1 0]\n",
            " [3 0 1]]\n",
            "Determinante: 1 e, portanto, é L.I.\n",
            "\n",
            "- Matriz 6 - (x2, x3, x4)\n",
            "[[0 1 0]\n",
            " [1 0 1]\n",
            " [2 0 0]]\n",
            "Determinante: 2 e, portanto, é L.I.\n",
            "\n",
            "- Matriz 7 - (x2, x3, x5)\n",
            "[[0 1 0]\n",
            " [1 0 0]\n",
            " [2 0 1]]\n",
            "Determinante: -1 e, portanto, é L.I.\n",
            "\n",
            "- Matriz 8 - (x2, x4, x5)\n",
            "[[0 0 0]\n",
            " [1 1 0]\n",
            " [2 0 1]]\n",
            "Determinante: 0 e, portanto, é L.D.\n",
            "\n",
            "- Matriz 9 - (x3, x4, x5)\n",
            "[[1 0 0]\n",
            " [0 1 0]\n",
            " [0 0 1]]\n",
            "Determinante: 1 e, portanto, é L.I.\n",
            "\n"
          ],
          "name": "stdout"
        }
      ]
    },
    {
      "cell_type": "code",
      "metadata": {
        "colab": {
          "base_uri": "https://localhost:8080/"
        },
        "id": "1XHnKyPsrVgr",
        "outputId": "4622d161-04c0-4181-ac46-5101f9aca326"
      },
      "source": [
        "# Esta biblioteca poderia dinamizar as matrizes, sem que fosse preciso alterar\n",
        "# o código para matrizes de diferentes dimensões. Entretanto, não consegui\n",
        "# utilizá-lo com meu código.\n",
        "\n",
        "from itertools import combinations\n",
        "matrizes = [i for i in range(qtd_comb)]\n",
        "\n",
        "basis = []\n",
        "\n",
        "for i in range(num_rest):\n",
        "  comb = list(combinations(A[i], num_rest))\n",
        "  print(comb)\n",
        "  basis.append(comb)\n",
        "  #for j in comb:\n",
        "    #basis = np.array(j)\n",
        "  #basis = np.array([comb])\n",
        "  #basis[i] = np.array([comb])\n",
        "  #for j, linha in enumerate(comb):\n",
        "  #  matrizes.append(linha)\n",
        "\n",
        "#print('Matrizes: ')\n",
        "#for i, matriz in enumerate(matrizes):\n",
        "#  print(f'Matriz #{i + 1}')\n",
        "#  print(np.array(matriz))\n"
      ],
      "execution_count": 159,
      "outputs": [
        {
          "output_type": "stream",
          "text": [
            "[(1, 0, 1), (1, 0, 0), (1, 0, 0), (1, 1, 0), (1, 1, 0), (1, 0, 0), (0, 1, 0), (0, 1, 0), (0, 0, 0), (1, 0, 0)]\n",
            "[(0, 1, 0), (0, 1, 1), (0, 1, 0), (0, 0, 1), (0, 0, 0), (0, 1, 0), (1, 0, 1), (1, 0, 0), (1, 1, 0), (0, 1, 0)]\n",
            "[(3, 2, 0), (3, 2, 0), (3, 2, 1), (3, 0, 0), (3, 0, 1), (3, 0, 1), (2, 0, 0), (2, 0, 1), (2, 0, 1), (0, 0, 1)]\n"
          ],
          "name": "stdout"
        }
      ]
    },
    {
      "cell_type": "code",
      "metadata": {
        "colab": {
          "base_uri": "https://localhost:8080/"
        },
        "id": "iAnYPEimox5x",
        "outputId": "99a18e90-424c-4192-ab81-45accb68d637"
      },
      "source": [
        "# Uma vez que a função \"linprog\" só realiza operações de minimização,\n",
        "# multiplicamos por (-1) os coeficientes da F.O.\n",
        "\n",
        "coef_fo_total = -coef_fo_total\n",
        "print(coef_fo_total)"
      ],
      "execution_count": 162,
      "outputs": [
        {
          "output_type": "stream",
          "text": [
            "[-3 -5  0]\n"
          ],
          "name": "stdout"
        }
      ]
    },
    {
      "cell_type": "markdown",
      "metadata": {
        "id": "8Wyj3kDxnF2I"
      },
      "source": [
        "Resolvendo para o arquivo de instância com as informações do exemplo passado em aula no dia 26/04 podemos comparar os resultados encontrados em aula e os exibidos pela função linprog. Vale lembrar que essa função, quando não passados os parâmetros sobre quais valores as variáveis podem assumir, ela define que serão sempre positivos (X >= 0).\n",
        "\n",
        "---\n",
        "\n",
        "\n",
        "- Exemplo da aula 26/04:\n",
        "\n",
        "MAX 3X1 + 5X2\n",
        "\n",
        "X1 <= 4\n",
        "\n",
        "X2 <= 6\n",
        "\n",
        "3X1 + 2X2 <= 18\n",
        "\n",
        "X1, X2 >= 0\n",
        "\n",
        "- Arquivo de instância:\n",
        "\n",
        "2 3\n",
        "\n",
        "3 5\n",
        "\n",
        "1 0 4\n",
        "\n",
        "0 1 6\n",
        "\n",
        "3 2 18\n",
        "\n",
        "---\n",
        "- Em aula, utilizando a base:\n",
        "\n",
        "1 0 1\n",
        "\n",
        "0 1 0\n",
        "\n",
        "3 2 0\n",
        "\n",
        "Encontra-se os valores para X1, X2 e X3: 2, 6, 2 respectivamente.\n",
        "\n",
        "Os mesmos valores podem ser vistos no retorno da função linalg."
      ]
    },
    {
      "cell_type": "code",
      "metadata": {
        "colab": {
          "base_uri": "https://localhost:8080/"
        },
        "id": "OSYHS38nxT_e",
        "outputId": "da382188-b963-4e36-ecdb-ccb4ac2b2039"
      },
      "source": [
        "for i in range(0, len(bases_aux)):\n",
        "  res = linprog(coef_fo_total, A_ub = bases_aux[i], b_ub = b)\n",
        "  print(f'''- Solução para {i + 1}ª base:\n",
        "{res}\n",
        "---------\\n''')"
      ],
      "execution_count": 175,
      "outputs": [
        {
          "output_type": "stream",
          "text": [
            "- Solução para 1ª base:\n",
            "     con: array([], dtype=float64)\n",
            "     fun: -35.99999999319195\n",
            " message: 'Optimization terminated successfully.'\n",
            "     nit: 4\n",
            "   slack: array([1.00000000e+00, 1.28686128e-09, 2.94746272e-09])\n",
            "  status: 0\n",
            " success: True\n",
            "       x: array([2., 6., 1.])\n",
            "---------\n",
            "\n",
            "- Solução para 2ª base:\n",
            "     con: array([], dtype=float64)\n",
            "     fun: -35.99999996930825\n",
            " message: 'Optimization terminated successfully.'\n",
            "     nit: 4\n",
            "   slack: array([2.00000000e+00, 4.51889370e-09, 1.24677229e-08])\n",
            "  status: 0\n",
            " success: True\n",
            "       x: array([2.00000000e+00, 5.99999999e+00, 1.55578387e-09])\n",
            "---------\n",
            "\n",
            "- Solução para 3ª base:\n",
            "     con: array([], dtype=float64)\n",
            "     fun: -35.99999998101939\n",
            " message: 'Optimization terminated successfully.'\n",
            "     nit: 4\n",
            "   slack: array([2.00000000e+00, 3.76388609e-09, 7.28115523e-09])\n",
            "  status: 0\n",
            " success: True\n",
            "       x: array([2.00000000e+00, 6.00000000e+00, 4.07793014e-10])\n",
            "---------\n",
            "\n",
            "- Solução para 4ª base:\n",
            "     con: array([], dtype=float64)\n",
            "     fun: -19.99999999068084\n",
            " message: 'Optimization terminated successfully.'\n",
            "     nit: 4\n",
            "   slack: array([1.829215e-09, 3.000000e+00, 1.800000e+01])\n",
            "  status: 0\n",
            " success: True\n",
            "       x: array([8.65409769e-11, 4.00000000e+00, 3.00000000e+00])\n",
            "---------\n",
            "\n",
            "- Solução para 5ª base:\n",
            "     con: array([], dtype=float64)\n",
            "     fun: -41.999999908566735\n",
            " message: 'Optimization terminated successfully.'\n",
            "     nit: 4\n",
            "   slack: array([7.61473196e-09, 1.37178136e-08, 3.00000003e+00])\n",
            "  status: 0\n",
            " success: True\n",
            "       x: array([3.99999999, 5.99999999, 2.99999999])\n",
            "---------\n",
            "\n",
            "- Solução para 6ª base:\n",
            "     con: array([], dtype=float64)\n",
            "     fun: -37.999999998662\n",
            " message: 'Optimization terminated successfully.'\n",
            "     nit: 4\n",
            "   slack: array([1.46331391e-10, 2.00267358e-10, 6.00000000e+00])\n",
            "  status: 0\n",
            " success: True\n",
            "       x: array([6.00000000e+00, 4.00000000e+00, 1.84696064e-12])\n",
            "---------\n",
            "\n",
            "- Solução para 7ª base:\n",
            "     con: array([], dtype=float64)\n",
            "     fun: -37.9999999976224\n",
            " message: 'Optimization terminated successfully.'\n",
            "     nit: 4\n",
            "   slack: array([2.36980213e-10, 3.97565536e-10, 3.00000000e+00])\n",
            "  status: 0\n",
            " success: True\n",
            "       x: array([6., 4., 3.])\n",
            "---------\n",
            "\n",
            "- Solução para 8ª base:\n",
            "     con: array([], dtype=float64)\n",
            "     fun: -42.0\n",
            " message: 'The solution was determined in presolve as there are no non-trivial constraints.'\n",
            "     nit: 0\n",
            "   slack: array([0., 0., 0.])\n",
            "  status: 0\n",
            " success: True\n",
            "       x: array([ 4.,  6., 18.])\n",
            "---------\n",
            "\n"
          ],
          "name": "stdout"
        },
        {
          "output_type": "stream",
          "text": [
            "/usr/local/lib/python3.7/dist-packages/numpy/core/fromnumeric.py:87: VisibleDeprecationWarning: Creating an ndarray from ragged nested sequences (which is a list-or-tuple of lists-or-tuples-or ndarrays with different lengths or shapes) is deprecated. If you meant to do this, you must specify 'dtype=object' when creating the ndarray\n",
            "  return ufunc.reduce(obj, axis, dtype, out, **passkwargs)\n"
          ],
          "name": "stderr"
        }
      ]
    },
    {
      "cell_type": "code",
      "metadata": {
        "colab": {
          "base_uri": "https://localhost:8080/"
        },
        "id": "QBWpelvuxgUX",
        "outputId": "0882f66e-44c0-46e3-9cce-e598c2d4f8fb"
      },
      "source": [
        "for i in range(0, 3):\n",
        "  print(i)"
      ],
      "execution_count": 172,
      "outputs": [
        {
          "output_type": "stream",
          "text": [
            "0\n",
            "1\n",
            "2\n"
          ],
          "name": "stdout"
        }
      ]
    }
  ]
}